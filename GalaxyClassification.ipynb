{
 "cells": [
  {
   "cell_type": "markdown",
   "metadata": {
    "id": "T-d64vzkEjcX"
   },
   "source": [
    "# **Galaxy Classification**"
   ]
  },
  {
   "cell_type": "markdown",
   "metadata": {
    "id": "OUDIauj4EtSW"
   },
   "source": [
    "# Libraries"
   ]
  },
  {
   "cell_type": "code",
   "execution_count": 1,
   "metadata": {
    "id": "8oXCy7X_nuc2"
   },
   "outputs": [],
   "source": [
    "import pandas as pd\n",
    "import numpy as np\n",
    "import matplotlib.pyplot as plt\n",
    "import seaborn as sns\n",
    "%matplotlib inline"
   ]
  },
  {
   "cell_type": "code",
   "execution_count": 2,
   "metadata": {
    "id": "kcGot2JQFGFk"
   },
   "outputs": [],
   "source": [
    "import warnings\n",
    "warnings.filterwarnings('ignore')"
   ]
  },
  {
   "cell_type": "markdown",
   "metadata": {
    "id": "43ulb-WfFO72"
   },
   "source": [
    "# Dataset"
   ]
  },
  {
   "cell_type": "code",
   "execution_count": 3,
   "metadata": {},
   "outputs": [],
   "source": [
    "df = pd.read_csv(\"C:/Users/apmey/OneDrive/Desktop/star.csv\")"
   ]
  },
  {
   "cell_type": "markdown",
   "metadata": {
    "id": "PKxs5QlyMjXN"
   },
   "source": [
    "# Exploratory Data Analysis"
   ]
  },
  {
   "cell_type": "code",
   "execution_count": 4,
   "metadata": {
    "colab": {
     "base_uri": "https://localhost:8080/"
    },
    "id": "Wky1w4tWFStr",
    "outputId": "1c5c505b-822d-44ba-ea9f-5c1309a1b2bf"
   },
   "outputs": [
    {
     "data": {
      "text/plain": [
       "(100000, 18)"
      ]
     },
     "execution_count": 4,
     "metadata": {},
     "output_type": "execute_result"
    }
   ],
   "source": [
    "df.shape"
   ]
  },
  {
   "cell_type": "markdown",
   "metadata": {
    "id": "rz6wBOzTMaRw"
   },
   "source": [
    "There are 100,000 observations with 18 feature variables in the dataset"
   ]
  },
  {
   "cell_type": "code",
   "execution_count": 5,
   "metadata": {
    "colab": {
     "base_uri": "https://localhost:8080/",
     "height": 270
    },
    "id": "9FE3L1UFFSqS",
    "outputId": "541f396c-b979-4984-ce0b-faa6f899ea31"
   },
   "outputs": [
    {
     "data": {
      "text/html": [
       "<div>\n",
       "<style scoped>\n",
       "    .dataframe tbody tr th:only-of-type {\n",
       "        vertical-align: middle;\n",
       "    }\n",
       "\n",
       "    .dataframe tbody tr th {\n",
       "        vertical-align: top;\n",
       "    }\n",
       "\n",
       "    .dataframe thead th {\n",
       "        text-align: right;\n",
       "    }\n",
       "</style>\n",
       "<table border=\"1\" class=\"dataframe\">\n",
       "  <thead>\n",
       "    <tr style=\"text-align: right;\">\n",
       "      <th></th>\n",
       "      <th>obj_ID</th>\n",
       "      <th>alpha</th>\n",
       "      <th>delta</th>\n",
       "      <th>u</th>\n",
       "      <th>g</th>\n",
       "      <th>r</th>\n",
       "      <th>i</th>\n",
       "      <th>z</th>\n",
       "      <th>run_ID</th>\n",
       "      <th>rerun_ID</th>\n",
       "      <th>cam_col</th>\n",
       "      <th>field_ID</th>\n",
       "      <th>spec_obj_ID</th>\n",
       "      <th>class</th>\n",
       "      <th>redshift</th>\n",
       "      <th>plate</th>\n",
       "      <th>MJD</th>\n",
       "      <th>fiber_ID</th>\n",
       "    </tr>\n",
       "  </thead>\n",
       "  <tbody>\n",
       "    <tr>\n",
       "      <th>0</th>\n",
       "      <td>1.237661e+18</td>\n",
       "      <td>135.689107</td>\n",
       "      <td>32.494632</td>\n",
       "      <td>23.87882</td>\n",
       "      <td>22.27530</td>\n",
       "      <td>20.39501</td>\n",
       "      <td>19.16573</td>\n",
       "      <td>18.79371</td>\n",
       "      <td>3606</td>\n",
       "      <td>301</td>\n",
       "      <td>2</td>\n",
       "      <td>79</td>\n",
       "      <td>6.543777e+18</td>\n",
       "      <td>GALAXY</td>\n",
       "      <td>0.634794</td>\n",
       "      <td>5812</td>\n",
       "      <td>56354</td>\n",
       "      <td>171</td>\n",
       "    </tr>\n",
       "    <tr>\n",
       "      <th>1</th>\n",
       "      <td>1.237665e+18</td>\n",
       "      <td>144.826101</td>\n",
       "      <td>31.274185</td>\n",
       "      <td>24.77759</td>\n",
       "      <td>22.83188</td>\n",
       "      <td>22.58444</td>\n",
       "      <td>21.16812</td>\n",
       "      <td>21.61427</td>\n",
       "      <td>4518</td>\n",
       "      <td>301</td>\n",
       "      <td>5</td>\n",
       "      <td>119</td>\n",
       "      <td>1.176014e+19</td>\n",
       "      <td>GALAXY</td>\n",
       "      <td>0.779136</td>\n",
       "      <td>10445</td>\n",
       "      <td>58158</td>\n",
       "      <td>427</td>\n",
       "    </tr>\n",
       "    <tr>\n",
       "      <th>2</th>\n",
       "      <td>1.237661e+18</td>\n",
       "      <td>142.188790</td>\n",
       "      <td>35.582444</td>\n",
       "      <td>25.26307</td>\n",
       "      <td>22.66389</td>\n",
       "      <td>20.60976</td>\n",
       "      <td>19.34857</td>\n",
       "      <td>18.94827</td>\n",
       "      <td>3606</td>\n",
       "      <td>301</td>\n",
       "      <td>2</td>\n",
       "      <td>120</td>\n",
       "      <td>5.152200e+18</td>\n",
       "      <td>GALAXY</td>\n",
       "      <td>0.644195</td>\n",
       "      <td>4576</td>\n",
       "      <td>55592</td>\n",
       "      <td>299</td>\n",
       "    </tr>\n",
       "    <tr>\n",
       "      <th>3</th>\n",
       "      <td>1.237663e+18</td>\n",
       "      <td>338.741038</td>\n",
       "      <td>-0.402828</td>\n",
       "      <td>22.13682</td>\n",
       "      <td>23.77656</td>\n",
       "      <td>21.61162</td>\n",
       "      <td>20.50454</td>\n",
       "      <td>19.25010</td>\n",
       "      <td>4192</td>\n",
       "      <td>301</td>\n",
       "      <td>3</td>\n",
       "      <td>214</td>\n",
       "      <td>1.030107e+19</td>\n",
       "      <td>GALAXY</td>\n",
       "      <td>0.932346</td>\n",
       "      <td>9149</td>\n",
       "      <td>58039</td>\n",
       "      <td>775</td>\n",
       "    </tr>\n",
       "    <tr>\n",
       "      <th>4</th>\n",
       "      <td>1.237680e+18</td>\n",
       "      <td>345.282593</td>\n",
       "      <td>21.183866</td>\n",
       "      <td>19.43718</td>\n",
       "      <td>17.58028</td>\n",
       "      <td>16.49747</td>\n",
       "      <td>15.97711</td>\n",
       "      <td>15.54461</td>\n",
       "      <td>8102</td>\n",
       "      <td>301</td>\n",
       "      <td>3</td>\n",
       "      <td>137</td>\n",
       "      <td>6.891865e+18</td>\n",
       "      <td>GALAXY</td>\n",
       "      <td>0.116123</td>\n",
       "      <td>6121</td>\n",
       "      <td>56187</td>\n",
       "      <td>842</td>\n",
       "    </tr>\n",
       "  </tbody>\n",
       "</table>\n",
       "</div>"
      ],
      "text/plain": [
       "         obj_ID       alpha      delta         u         g         r  \\\n",
       "0  1.237661e+18  135.689107  32.494632  23.87882  22.27530  20.39501   \n",
       "1  1.237665e+18  144.826101  31.274185  24.77759  22.83188  22.58444   \n",
       "2  1.237661e+18  142.188790  35.582444  25.26307  22.66389  20.60976   \n",
       "3  1.237663e+18  338.741038  -0.402828  22.13682  23.77656  21.61162   \n",
       "4  1.237680e+18  345.282593  21.183866  19.43718  17.58028  16.49747   \n",
       "\n",
       "          i         z  run_ID  rerun_ID  cam_col  field_ID   spec_obj_ID  \\\n",
       "0  19.16573  18.79371    3606       301        2        79  6.543777e+18   \n",
       "1  21.16812  21.61427    4518       301        5       119  1.176014e+19   \n",
       "2  19.34857  18.94827    3606       301        2       120  5.152200e+18   \n",
       "3  20.50454  19.25010    4192       301        3       214  1.030107e+19   \n",
       "4  15.97711  15.54461    8102       301        3       137  6.891865e+18   \n",
       "\n",
       "    class  redshift  plate    MJD  fiber_ID  \n",
       "0  GALAXY  0.634794   5812  56354       171  \n",
       "1  GALAXY  0.779136  10445  58158       427  \n",
       "2  GALAXY  0.644195   4576  55592       299  \n",
       "3  GALAXY  0.932346   9149  58039       775  \n",
       "4  GALAXY  0.116123   6121  56187       842  "
      ]
     },
     "execution_count": 5,
     "metadata": {},
     "output_type": "execute_result"
    }
   ],
   "source": [
    "df.head()"
   ]
  },
  {
   "cell_type": "markdown",
   "metadata": {
    "id": "YbkJ9zcmMyQB"
   },
   "source": [
    "There are 18 variables, 1 discrete variable 16 continuous variables, and the object identification"
   ]
  },
  {
   "cell_type": "code",
   "execution_count": 6,
   "metadata": {
    "colab": {
     "base_uri": "https://localhost:8080/"
    },
    "id": "aTJeZiPZFSzA",
    "outputId": "9397d165-e7a7-480c-c663-c90f608ba5ab"
   },
   "outputs": [
    {
     "data": {
      "text/plain": [
       "Index(['obj_ID', 'alpha', 'delta', 'u', 'g', 'r', 'i', 'z', 'run_ID',\n",
       "       'rerun_ID', 'cam_col', 'field_ID', 'spec_obj_ID', 'class', 'redshift',\n",
       "       'plate', 'MJD', 'fiber_ID'],\n",
       "      dtype='object')"
      ]
     },
     "execution_count": 6,
     "metadata": {},
     "output_type": "execute_result"
    }
   ],
   "source": [
    "col_names = df.columns\n",
    "col_names"
   ]
  },
  {
   "cell_type": "markdown",
   "metadata": {
    "id": "Efcxdn0aNwC5"
   },
   "source": [
    "- obj_ID = Object Identifier, the unique value that identifies the object in the image catalog used by the CAS\n",
    "- alpha = Right Ascension angle (at J2000 epoch)\n",
    "- delta = Declination angle (at J2000 epoch)\n",
    "- u = Ultraviolet filter in the photometric system\n",
    "- g = Green filter in the photometric system\n",
    "- r = Red filter in the photometric system\n",
    "- i = Near Infrared filter in the photometric system\n",
    "- z = Infrared filter in the photometric system\n",
    "- run_ID = Run Number used to identify the specific scan\n",
    "- rereun_ID = Rerun Number to specify how the image was processed\n",
    "- cam_col = Camera column to identify the scanline within the run\n",
    "- field_ID = Field number to identify each field\n",
    "- spec_obj_ID = Unique ID used for optical spectroscopic objects (this means that 2 different observations with the same spec_obj_ID must share the output class)\n",
    "- class = object class (galaxy, star or quasar object)\n",
    "- redshift = redshift value based on the increase in wavelength\n",
    "- plate = plate ID, identifies each plate in SDSS\n",
    "- MJD = Modified Julian Date, used to indicate when a given piece of SDSS data was taken\n",
    "- fiber_ID = fiber ID that identifies the fiber that pointed the light at the focal plane in each observation"
   ]
  },
  {
   "cell_type": "code",
   "execution_count": 7,
   "metadata": {
    "colab": {
     "base_uri": "https://localhost:8080/"
    },
    "id": "I0ecWLp5MrRK",
    "outputId": "ddecc43b-8845-4830-da07-fb1250f8c51d"
   },
   "outputs": [
    {
     "data": {
      "text/plain": [
       "GALAXY    59445\n",
       "STAR      21594\n",
       "QSO       18961\n",
       "Name: class, dtype: int64"
      ]
     },
     "execution_count": 7,
     "metadata": {},
     "output_type": "execute_result"
    }
   ],
   "source": [
    "df['class'].value_counts()"
   ]
  },
  {
   "cell_type": "code",
   "execution_count": 8,
   "metadata": {
    "colab": {
     "base_uri": "https://localhost:8080/"
    },
    "id": "g6O4PC89Mraf",
    "outputId": "9283c68a-f64a-4ba4-f495-5c3d0e2f16a2"
   },
   "outputs": [
    {
     "data": {
      "text/plain": [
       "GALAXY    0.59445\n",
       "STAR      0.21594\n",
       "QSO       0.18961\n",
       "Name: class, dtype: float64"
      ]
     },
     "execution_count": 8,
     "metadata": {},
     "output_type": "execute_result"
    }
   ],
   "source": [
    "df['class'].value_counts()/np.float(len(df))"
   ]
  },
  {
   "cell_type": "markdown",
   "metadata": {
    "id": "IpQUlDApOwF6"
   },
   "source": [
    "We can see the 59% of the observations are galaxies, 21% are stars and 19% are quasars."
   ]
  },
  {
   "cell_type": "code",
   "execution_count": 9,
   "metadata": {},
   "outputs": [
    {
     "name": "stdout",
     "output_type": "stream",
     "text": [
      "<class 'pandas.core.frame.DataFrame'>\n",
      "RangeIndex: 100000 entries, 0 to 99999\n",
      "Data columns (total 18 columns):\n",
      " #   Column       Non-Null Count   Dtype  \n",
      "---  ------       --------------   -----  \n",
      " 0   obj_ID       100000 non-null  float64\n",
      " 1   alpha        100000 non-null  float64\n",
      " 2   delta        100000 non-null  float64\n",
      " 3   u            100000 non-null  float64\n",
      " 4   g            100000 non-null  float64\n",
      " 5   r            100000 non-null  float64\n",
      " 6   i            100000 non-null  float64\n",
      " 7   z            100000 non-null  float64\n",
      " 8   run_ID       100000 non-null  int64  \n",
      " 9   rerun_ID     100000 non-null  int64  \n",
      " 10  cam_col      100000 non-null  int64  \n",
      " 11  field_ID     100000 non-null  int64  \n",
      " 12  spec_obj_ID  100000 non-null  float64\n",
      " 13  class        100000 non-null  object \n",
      " 14  redshift     100000 non-null  float64\n",
      " 15  plate        100000 non-null  int64  \n",
      " 16  MJD          100000 non-null  int64  \n",
      " 17  fiber_ID     100000 non-null  int64  \n",
      "dtypes: float64(10), int64(7), object(1)\n",
      "memory usage: 13.7+ MB\n"
     ]
    }
   ],
   "source": [
    "df.info()"
   ]
  },
  {
   "cell_type": "markdown",
   "metadata": {
    "id": "5sr0JXlQPGkt"
   },
   "source": [
    "There are no missing values in the dataset"
   ]
  },
  {
   "cell_type": "code",
   "execution_count": 10,
   "metadata": {},
   "outputs": [
    {
     "data": {
      "text/html": [
       "<div>\n",
       "<style scoped>\n",
       "    .dataframe tbody tr th:only-of-type {\n",
       "        vertical-align: middle;\n",
       "    }\n",
       "\n",
       "    .dataframe tbody tr th {\n",
       "        vertical-align: top;\n",
       "    }\n",
       "\n",
       "    .dataframe thead th {\n",
       "        text-align: right;\n",
       "    }\n",
       "</style>\n",
       "<table border=\"1\" class=\"dataframe\">\n",
       "  <thead>\n",
       "    <tr style=\"text-align: right;\">\n",
       "      <th></th>\n",
       "      <th>obj_ID</th>\n",
       "      <th>alpha</th>\n",
       "      <th>delta</th>\n",
       "      <th>u</th>\n",
       "      <th>g</th>\n",
       "      <th>r</th>\n",
       "      <th>i</th>\n",
       "      <th>z</th>\n",
       "      <th>run_ID</th>\n",
       "      <th>rerun_ID</th>\n",
       "      <th>cam_col</th>\n",
       "      <th>field_ID</th>\n",
       "      <th>spec_obj_ID</th>\n",
       "      <th>redshift</th>\n",
       "      <th>plate</th>\n",
       "      <th>MJD</th>\n",
       "      <th>fiber_ID</th>\n",
       "    </tr>\n",
       "  </thead>\n",
       "  <tbody>\n",
       "    <tr>\n",
       "      <th>count</th>\n",
       "      <td>1.000000e+05</td>\n",
       "      <td>100000.000000</td>\n",
       "      <td>100000.000000</td>\n",
       "      <td>100000.000000</td>\n",
       "      <td>100000.000000</td>\n",
       "      <td>100000.000000</td>\n",
       "      <td>100000.000000</td>\n",
       "      <td>100000.000000</td>\n",
       "      <td>100000.000000</td>\n",
       "      <td>100000.0</td>\n",
       "      <td>100000.000000</td>\n",
       "      <td>100000.000000</td>\n",
       "      <td>1.000000e+05</td>\n",
       "      <td>100000.000000</td>\n",
       "      <td>100000.000000</td>\n",
       "      <td>100000.000000</td>\n",
       "      <td>100000.000000</td>\n",
       "    </tr>\n",
       "    <tr>\n",
       "      <th>mean</th>\n",
       "      <td>1.237665e+18</td>\n",
       "      <td>177.629117</td>\n",
       "      <td>24.135305</td>\n",
       "      <td>21.980468</td>\n",
       "      <td>20.531387</td>\n",
       "      <td>19.645762</td>\n",
       "      <td>19.084854</td>\n",
       "      <td>18.668810</td>\n",
       "      <td>4481.366060</td>\n",
       "      <td>301.0</td>\n",
       "      <td>3.511610</td>\n",
       "      <td>186.130520</td>\n",
       "      <td>5.783882e+18</td>\n",
       "      <td>0.576661</td>\n",
       "      <td>5137.009660</td>\n",
       "      <td>55588.647500</td>\n",
       "      <td>449.312740</td>\n",
       "    </tr>\n",
       "    <tr>\n",
       "      <th>std</th>\n",
       "      <td>8.438560e+12</td>\n",
       "      <td>96.502241</td>\n",
       "      <td>19.644665</td>\n",
       "      <td>31.769291</td>\n",
       "      <td>31.750292</td>\n",
       "      <td>1.854760</td>\n",
       "      <td>1.757895</td>\n",
       "      <td>31.728152</td>\n",
       "      <td>1964.764593</td>\n",
       "      <td>0.0</td>\n",
       "      <td>1.586912</td>\n",
       "      <td>149.011073</td>\n",
       "      <td>3.324016e+18</td>\n",
       "      <td>0.730707</td>\n",
       "      <td>2952.303351</td>\n",
       "      <td>1808.484233</td>\n",
       "      <td>272.498404</td>\n",
       "    </tr>\n",
       "    <tr>\n",
       "      <th>min</th>\n",
       "      <td>1.237646e+18</td>\n",
       "      <td>0.005528</td>\n",
       "      <td>-18.785328</td>\n",
       "      <td>-9999.000000</td>\n",
       "      <td>-9999.000000</td>\n",
       "      <td>9.822070</td>\n",
       "      <td>9.469903</td>\n",
       "      <td>-9999.000000</td>\n",
       "      <td>109.000000</td>\n",
       "      <td>301.0</td>\n",
       "      <td>1.000000</td>\n",
       "      <td>11.000000</td>\n",
       "      <td>2.995191e+17</td>\n",
       "      <td>-0.009971</td>\n",
       "      <td>266.000000</td>\n",
       "      <td>51608.000000</td>\n",
       "      <td>1.000000</td>\n",
       "    </tr>\n",
       "    <tr>\n",
       "      <th>25%</th>\n",
       "      <td>1.237659e+18</td>\n",
       "      <td>127.518222</td>\n",
       "      <td>5.146771</td>\n",
       "      <td>20.352353</td>\n",
       "      <td>18.965230</td>\n",
       "      <td>18.135828</td>\n",
       "      <td>17.732285</td>\n",
       "      <td>17.460677</td>\n",
       "      <td>3187.000000</td>\n",
       "      <td>301.0</td>\n",
       "      <td>2.000000</td>\n",
       "      <td>82.000000</td>\n",
       "      <td>2.844138e+18</td>\n",
       "      <td>0.054517</td>\n",
       "      <td>2526.000000</td>\n",
       "      <td>54234.000000</td>\n",
       "      <td>221.000000</td>\n",
       "    </tr>\n",
       "    <tr>\n",
       "      <th>50%</th>\n",
       "      <td>1.237663e+18</td>\n",
       "      <td>180.900700</td>\n",
       "      <td>23.645922</td>\n",
       "      <td>22.179135</td>\n",
       "      <td>21.099835</td>\n",
       "      <td>20.125290</td>\n",
       "      <td>19.405145</td>\n",
       "      <td>19.004595</td>\n",
       "      <td>4188.000000</td>\n",
       "      <td>301.0</td>\n",
       "      <td>4.000000</td>\n",
       "      <td>146.000000</td>\n",
       "      <td>5.614883e+18</td>\n",
       "      <td>0.424173</td>\n",
       "      <td>4987.000000</td>\n",
       "      <td>55868.500000</td>\n",
       "      <td>433.000000</td>\n",
       "    </tr>\n",
       "    <tr>\n",
       "      <th>75%</th>\n",
       "      <td>1.237668e+18</td>\n",
       "      <td>233.895005</td>\n",
       "      <td>39.901550</td>\n",
       "      <td>23.687440</td>\n",
       "      <td>22.123767</td>\n",
       "      <td>21.044785</td>\n",
       "      <td>20.396495</td>\n",
       "      <td>19.921120</td>\n",
       "      <td>5326.000000</td>\n",
       "      <td>301.0</td>\n",
       "      <td>5.000000</td>\n",
       "      <td>241.000000</td>\n",
       "      <td>8.332144e+18</td>\n",
       "      <td>0.704154</td>\n",
       "      <td>7400.250000</td>\n",
       "      <td>56777.000000</td>\n",
       "      <td>645.000000</td>\n",
       "    </tr>\n",
       "    <tr>\n",
       "      <th>max</th>\n",
       "      <td>1.237681e+18</td>\n",
       "      <td>359.999810</td>\n",
       "      <td>83.000519</td>\n",
       "      <td>32.781390</td>\n",
       "      <td>31.602240</td>\n",
       "      <td>29.571860</td>\n",
       "      <td>32.141470</td>\n",
       "      <td>29.383740</td>\n",
       "      <td>8162.000000</td>\n",
       "      <td>301.0</td>\n",
       "      <td>6.000000</td>\n",
       "      <td>989.000000</td>\n",
       "      <td>1.412694e+19</td>\n",
       "      <td>7.011245</td>\n",
       "      <td>12547.000000</td>\n",
       "      <td>58932.000000</td>\n",
       "      <td>1000.000000</td>\n",
       "    </tr>\n",
       "  </tbody>\n",
       "</table>\n",
       "</div>"
      ],
      "text/plain": [
       "             obj_ID          alpha          delta              u  \\\n",
       "count  1.000000e+05  100000.000000  100000.000000  100000.000000   \n",
       "mean   1.237665e+18     177.629117      24.135305      21.980468   \n",
       "std    8.438560e+12      96.502241      19.644665      31.769291   \n",
       "min    1.237646e+18       0.005528     -18.785328   -9999.000000   \n",
       "25%    1.237659e+18     127.518222       5.146771      20.352353   \n",
       "50%    1.237663e+18     180.900700      23.645922      22.179135   \n",
       "75%    1.237668e+18     233.895005      39.901550      23.687440   \n",
       "max    1.237681e+18     359.999810      83.000519      32.781390   \n",
       "\n",
       "                   g              r              i              z  \\\n",
       "count  100000.000000  100000.000000  100000.000000  100000.000000   \n",
       "mean       20.531387      19.645762      19.084854      18.668810   \n",
       "std        31.750292       1.854760       1.757895      31.728152   \n",
       "min     -9999.000000       9.822070       9.469903   -9999.000000   \n",
       "25%        18.965230      18.135828      17.732285      17.460677   \n",
       "50%        21.099835      20.125290      19.405145      19.004595   \n",
       "75%        22.123767      21.044785      20.396495      19.921120   \n",
       "max        31.602240      29.571860      32.141470      29.383740   \n",
       "\n",
       "              run_ID  rerun_ID        cam_col       field_ID   spec_obj_ID  \\\n",
       "count  100000.000000  100000.0  100000.000000  100000.000000  1.000000e+05   \n",
       "mean     4481.366060     301.0       3.511610     186.130520  5.783882e+18   \n",
       "std      1964.764593       0.0       1.586912     149.011073  3.324016e+18   \n",
       "min       109.000000     301.0       1.000000      11.000000  2.995191e+17   \n",
       "25%      3187.000000     301.0       2.000000      82.000000  2.844138e+18   \n",
       "50%      4188.000000     301.0       4.000000     146.000000  5.614883e+18   \n",
       "75%      5326.000000     301.0       5.000000     241.000000  8.332144e+18   \n",
       "max      8162.000000     301.0       6.000000     989.000000  1.412694e+19   \n",
       "\n",
       "            redshift          plate            MJD       fiber_ID  \n",
       "count  100000.000000  100000.000000  100000.000000  100000.000000  \n",
       "mean        0.576661    5137.009660   55588.647500     449.312740  \n",
       "std         0.730707    2952.303351    1808.484233     272.498404  \n",
       "min        -0.009971     266.000000   51608.000000       1.000000  \n",
       "25%         0.054517    2526.000000   54234.000000     221.000000  \n",
       "50%         0.424173    4987.000000   55868.500000     433.000000  \n",
       "75%         0.704154    7400.250000   56777.000000     645.000000  \n",
       "max         7.011245   12547.000000   58932.000000    1000.000000  "
      ]
     },
     "execution_count": 10,
     "metadata": {},
     "output_type": "execute_result"
    }
   ],
   "source": [
    "df.describe()"
   ]
  },
  {
   "cell_type": "markdown",
   "metadata": {
    "id": "ypMAzENFPkO7"
   },
   "source": [
    "There apears to be outliers for the minimum values of u, g, and z. \n",
    "\n",
    "Boxplots to visualize the outliers"
   ]
  },
  {
   "cell_type": "code",
   "execution_count": 11,
   "metadata": {
    "colab": {
     "base_uri": "https://localhost:8080/",
     "height": 956
    },
    "id": "_aeUizy1O_kn",
    "outputId": "d194c888-7f5f-4ec6-a148-86f5cdd515f8"
   },
   "outputs": [
    {
     "data": {
      "text/plain": [
       "Text(0, 0.5, 'Fiber ID')"
      ]
     },
     "execution_count": 11,
     "metadata": {},
     "output_type": "execute_result"
    },
    {
     "data": {
      "image/png": "[encoded data removed]",
      "text/plain": [
       "<Figure size 1728x1440 with 15 Axes>"
      ]
     },
     "metadata": {
      "needs_background": "light"
     },
     "output_type": "display_data"
    }
   ],
   "source": [
    "plt.figure(figsize=(24,20))\n",
    "\n",
    "plt.subplot(4,4,1)\n",
    "fig = df.boxplot(column = 'alpha')\n",
    "fig.set_title('')\n",
    "fig.set_ylabel('Right Assension Angle')\n",
    "\n",
    "plt.subplot(4,4,2)\n",
    "fig = df.boxplot(column = 'delta')\n",
    "fig.set_title('')\n",
    "fig.set_ylabel('Declination Angle')\n",
    "\n",
    "plt.subplot(4,4,3)\n",
    "fig = df.boxplot(column = 'u')\n",
    "fig.set_title('')\n",
    "fig.set_ylabel('Ultraviolet filter')\n",
    "\n",
    "plt.subplot(4,4,4)\n",
    "fig = df.boxplot(column = 'g')\n",
    "fig.set_title('')\n",
    "fig.set_ylabel('Green filter')\n",
    "\n",
    "plt.subplot(4,4,5)\n",
    "fig = df.boxplot(column = 'r')\n",
    "fig.set_title('')\n",
    "fig.set_ylabel('red filter')\n",
    "\n",
    "plt.subplot(4,4,6)\n",
    "fig = df.boxplot(column = 'i')\n",
    "fig.set_title('')\n",
    "fig.set_ylabel('Near Infrared filter')\n",
    "\n",
    "plt.subplot(4,4,7)\n",
    "fig = df.boxplot(column = 'z')\n",
    "fig.set_title('')\n",
    "fig.set_ylabel('Infrared filter')\n",
    "\n",
    "plt.subplot(4,4,8)\n",
    "fig = df.boxplot(column = 'run_ID')\n",
    "fig.set_title('')\n",
    "fig.set_ylabel('Run Number')\n",
    "\n",
    "plt.subplot(4,4,9)\n",
    "fig = df.boxplot(column = 'rerun_ID')\n",
    "fig.set_title('')\n",
    "fig.set_ylabel('Rerun Number')\n",
    "\n",
    "plt.subplot(4,4,10)\n",
    "fig = df.boxplot(column = 'cam_col')\n",
    "fig.set_title('')\n",
    "fig.set_ylabel('Camera Column')\n",
    "\n",
    "plt.subplot(4,4,11)\n",
    "fig = df.boxplot(column = 'field_ID')\n",
    "fig.set_title('')\n",
    "fig.set_ylabel('Field Number ID')\n",
    "\n",
    "plt.subplot(4,4,12)\n",
    "fig = df.boxplot(column = 'redshift')\n",
    "fig.set_title('')\n",
    "fig.set_ylabel('Redshift')\n",
    "\n",
    "plt.subplot(4,4,13)\n",
    "fig = df.boxplot(column = 'plate')\n",
    "fig.set_title('')\n",
    "fig.set_ylabel('Plate Number')\n",
    "\n",
    "plt.subplot(4,4,14)\n",
    "fig = df.boxplot(column = 'MJD')\n",
    "fig.set_title('')\n",
    "fig.set_ylabel('Modified Julian Date')\n",
    "\n",
    "plt.subplot(4,4,15)\n",
    "fig = df.boxplot(column = 'fiber_ID')\n",
    "fig.set_title('')\n",
    "fig.set_ylabel('Fiber ID')"
   ]
  },
  {
   "cell_type": "markdown",
   "metadata": {
    "id": "Jr2dpFWIUlFt"
   },
   "source": [
    "The above boxplots confirm that there are a lot of outliers in these variables.\n",
    "Therefore the value of C should be high when training the model."
   ]
  },
  {
   "cell_type": "code",
   "execution_count": 12,
   "metadata": {
    "colab": {
     "base_uri": "https://localhost:8080/",
     "height": 963
    },
    "id": "ejqujvJvPAT7",
    "outputId": "b2d4d9da-e28f-4206-cfd9-fd112fac45dc"
   },
   "outputs": [
    {
     "data": {
      "text/plain": [
       "Text(0, 0.5, 'Observations')"
      ]
     },
     "execution_count": 12,
     "metadata": {},
     "output_type": "execute_result"
    },
    {
     "data": {
      "image/png": "[encoded data removed]",
      "text/plain": [
       "<Figure size 1728x1440 with 15 Axes>"
      ]
     },
     "metadata": {
      "needs_background": "light"
     },
     "output_type": "display_data"
    }
   ],
   "source": [
    "plt.figure(figsize=(24,20))\n",
    "\n",
    "plt.subplot(4,4,1)\n",
    "fig = df['alpha'].hist(bins = 20)\n",
    "fig.set_xlabel('Right Assension Angle')\n",
    "fig.set_ylabel('Observations')\n",
    "\n",
    "plt.subplot(4,4,2)\n",
    "fig = df['delta'].hist(bins = 20)\n",
    "fig.set_xlabel('Declination Angle')\n",
    "fig.set_ylabel('Observations')\n",
    "\n",
    "plt.subplot(4,4,3)\n",
    "fig = df['u'].hist(bins = 20)\n",
    "fig.set_xlabel('Ultraviolet filter')\n",
    "fig.set_ylabel('Observations')\n",
    "\n",
    "plt.subplot(4,4,4)\n",
    "fig = df['g'].hist(bins = 20)\n",
    "fig.set_xlabel('Green filter')\n",
    "fig.set_ylabel('Observations')\n",
    "\n",
    "plt.subplot(4,4,5)\n",
    "fig = df['r'].hist(bins = 20)\n",
    "fig.set_xlabel('red filter')\n",
    "fig.set_ylabel('Observations')\n",
    "\n",
    "plt.subplot(4,4,6)\n",
    "fig = df['i'].hist(bins = 20)\n",
    "fig.set_xlabel('Near Infrared filter')\n",
    "fig.set_ylabel('Observations')\n",
    "\n",
    "plt.subplot(4,4,7)\n",
    "fig = df['z'].hist(bins = 20)\n",
    "fig.set_xlabel('Infrared filter')\n",
    "fig.set_ylabel('Observations')\n",
    "\n",
    "plt.subplot(4,4,8)\n",
    "fig = df['run_ID'].hist(bins = 20)\n",
    "fig.set_xlabel('Run Number')\n",
    "fig.set_ylabel('Observations')\n",
    "\n",
    "plt.subplot(4,4,9)\n",
    "fig = df['rerun_ID'].hist(bins = 20)\n",
    "fig.set_xlabel('Rerun Number')\n",
    "fig.set_ylabel('Observations')\n",
    "\n",
    "plt.subplot(4,4,10)\n",
    "fig = df['cam_col'].hist(bins = 20)\n",
    "fig.set_xlabel('Camera Column')\n",
    "fig.set_ylabel('Observations')\n",
    "\n",
    "plt.subplot(4,4,11)\n",
    "fig = df['field_ID'].hist(bins = 20)\n",
    "fig.set_xlabel('Field Number ID')\n",
    "fig.set_ylabel('Observations')\n",
    "\n",
    "plt.subplot(4,4,12)\n",
    "fig = df['redshift'].hist(bins = 20)\n",
    "fig.set_xlabel('Redshift')\n",
    "fig.set_ylabel('Observations')\n",
    "\n",
    "plt.subplot(4,4,13)\n",
    "fig = df['plate'].hist(bins = 20)\n",
    "fig.set_xlabel('Plate Number')\n",
    "fig.set_ylabel('Observations')\n",
    "\n",
    "plt.subplot(4,4,14)\n",
    "fig = df['MJD'].hist(bins = 20)\n",
    "fig.set_xlabel('Modified Julian Date')\n",
    "fig.set_ylabel('Observations')\n",
    "\n",
    "plt.subplot(4,4,15)\n",
    "fig = df['fiber_ID'].hist(bins = 20)\n",
    "fig.set_xlabel('Fiber ID')\n",
    "fig.set_ylabel('Observations')"
   ]
  },
  {
   "cell_type": "markdown",
   "metadata": {
    "id": "jnF0ss86Y2o9"
   },
   "source": [
    "Field Number ID, Redshift, Ultraviolet filter, green filter, infrared filter are skewed. And others variables have irregular shapes. And there seems to be some outliers."
   ]
  },
  {
   "cell_type": "markdown",
   "metadata": {
    "id": "dTBB3o4bZ84Y"
   },
   "source": [
    "# Transformations"
   ]
  },
  {
   "cell_type": "code",
   "execution_count": 13,
   "metadata": {
    "colab": {
     "base_uri": "https://localhost:8080/"
    },
    "id": "k1M3JKyo0sMC",
    "outputId": "22f02cbc-a425-465e-d3d3-d0d5eff8126f"
   },
   "outputs": [
    {
     "data": {
      "text/plain": [
       "GALAXY    0.59445\n",
       "STAR      0.21594\n",
       "QSO       0.18961\n",
       "Name: class, dtype: float64"
      ]
     },
     "execution_count": 13,
     "metadata": {},
     "output_type": "execute_result"
    }
   ],
   "source": [
    "df['class'].value_counts()/np.float(len(df))"
   ]
  },
  {
   "cell_type": "markdown",
   "metadata": {
    "id": "IFcD6sMdBMKT"
   },
   "source": [
    "Set Galaxy to 1 and 0 for everything else"
   ]
  },
  {
   "cell_type": "code",
   "execution_count": 14,
   "metadata": {
    "id": "1wZXxyJR1Tdf"
   },
   "outputs": [],
   "source": [
    "df['class'] = df['class'].apply(lambda x: 1 if x == 'GALAXY' else 0)"
   ]
  },
  {
   "cell_type": "code",
   "execution_count": 15,
   "metadata": {
    "colab": {
     "base_uri": "https://localhost:8080/"
    },
    "id": "smT7YzyCBIr_",
    "outputId": "426350f1-b6ca-4f0f-89a7-dd424cd81c9b"
   },
   "outputs": [
    {
     "data": {
      "text/plain": [
       "1    0.59445\n",
       "0    0.40555\n",
       "Name: class, dtype: float64"
      ]
     },
     "execution_count": 15,
     "metadata": {},
     "output_type": "execute_result"
    }
   ],
   "source": [
    "df['class'].value_counts()/np.float(len(df))"
   ]
  },
  {
   "cell_type": "code",
   "execution_count": 16,
   "metadata": {
    "id": "mAgaT4svPAbj"
   },
   "outputs": [],
   "source": [
    "X = df.drop(['class'], axis = 1)\n",
    "y = df['class']"
   ]
  },
  {
   "cell_type": "code",
   "execution_count": 17,
   "metadata": {
    "id": "ULCbfNJhaFmg"
   },
   "outputs": [],
   "source": [
    "from sklearn.model_selection import train_test_split\n",
    "\n",
    "X_train, X_test, y_train, y_test = train_test_split(X, y , test_size = 0.2, random_state = 0)"
   ]
  },
  {
   "cell_type": "code",
   "execution_count": 18,
   "metadata": {
    "colab": {
     "base_uri": "https://localhost:8080/"
    },
    "id": "02cPVHn9aFvo",
    "outputId": "586986ff-03df-40a4-aecd-708cd865cd2a"
   },
   "outputs": [
    {
     "data": {
      "text/plain": [
       "((80000, 17), (20000, 17))"
      ]
     },
     "execution_count": 18,
     "metadata": {},
     "output_type": "execute_result"
    }
   ],
   "source": [
    "X_train.shape, X_test.shape"
   ]
  },
  {
   "cell_type": "markdown",
   "metadata": {
    "id": "btqAvnpLlvqn"
   },
   "source": [
    "## Scaling"
   ]
  },
  {
   "cell_type": "code",
   "execution_count": 19,
   "metadata": {
    "id": "25rBS6VraF2S"
   },
   "outputs": [],
   "source": [
    "cols = X_train.columns"
   ]
  },
  {
   "cell_type": "code",
   "execution_count": 20,
   "metadata": {
    "id": "u9GJjD3SaF9M"
   },
   "outputs": [],
   "source": [
    "from sklearn.preprocessing import StandardScaler\n",
    "\n",
    "scaler = StandardScaler()\n",
    "\n",
    "X_train = scaler.fit_transform(X_train)\n",
    "X_test = scaler.fit_transform(X_test)"
   ]
  },
  {
   "cell_type": "code",
   "execution_count": 21,
   "metadata": {
    "id": "ZB8vc8wbmJkZ"
   },
   "outputs": [],
   "source": [
    "X_train = pd.DataFrame(X_train, columns = [cols])\n",
    "\n",
    "X_test = pd.DataFrame(X_test, columns = [cols])"
   ]
  },
  {
   "cell_type": "code",
   "execution_count": 22,
   "metadata": {
    "colab": {
     "base_uri": "https://localhost:8080/",
     "height": 364
    },
    "id": "0c-IHTf-mJoB",
    "outputId": "05c81e4c-46c8-4350-f1e5-59bae4c24439"
   },
   "outputs": [
    {
     "data": {
      "text/html": [
       "<div>\n",
       "<style scoped>\n",
       "    .dataframe tbody tr th:only-of-type {\n",
       "        vertical-align: middle;\n",
       "    }\n",
       "\n",
       "    .dataframe tbody tr th {\n",
       "        vertical-align: top;\n",
       "    }\n",
       "\n",
       "    .dataframe thead tr th {\n",
       "        text-align: left;\n",
       "    }\n",
       "</style>\n",
       "<table border=\"1\" class=\"dataframe\">\n",
       "  <thead>\n",
       "    <tr>\n",
       "      <th></th>\n",
       "      <th>obj_ID</th>\n",
       "      <th>alpha</th>\n",
       "      <th>delta</th>\n",
       "      <th>u</th>\n",
       "      <th>g</th>\n",
       "      <th>r</th>\n",
       "      <th>i</th>\n",
       "      <th>z</th>\n",
       "      <th>run_ID</th>\n",
       "      <th>rerun_ID</th>\n",
       "      <th>cam_col</th>\n",
       "      <th>field_ID</th>\n",
       "      <th>spec_obj_ID</th>\n",
       "      <th>redshift</th>\n",
       "      <th>plate</th>\n",
       "      <th>MJD</th>\n",
       "      <th>fiber_ID</th>\n",
       "    </tr>\n",
       "  </thead>\n",
       "  <tbody>\n",
       "    <tr>\n",
       "      <th>count</th>\n",
       "      <td>8.000000e+04</td>\n",
       "      <td>8.000000e+04</td>\n",
       "      <td>8.000000e+04</td>\n",
       "      <td>8.000000e+04</td>\n",
       "      <td>8.000000e+04</td>\n",
       "      <td>8.000000e+04</td>\n",
       "      <td>8.000000e+04</td>\n",
       "      <td>8.000000e+04</td>\n",
       "      <td>8.000000e+04</td>\n",
       "      <td>80000.0</td>\n",
       "      <td>8.000000e+04</td>\n",
       "      <td>8.000000e+04</td>\n",
       "      <td>8.000000e+04</td>\n",
       "      <td>8.000000e+04</td>\n",
       "      <td>8.000000e+04</td>\n",
       "      <td>8.000000e+04</td>\n",
       "      <td>8.000000e+04</td>\n",
       "    </tr>\n",
       "    <tr>\n",
       "      <th>mean</th>\n",
       "      <td>3.207672e-12</td>\n",
       "      <td>-3.678093e-16</td>\n",
       "      <td>1.520485e-16</td>\n",
       "      <td>1.734671e-17</td>\n",
       "      <td>2.797337e-17</td>\n",
       "      <td>-7.402981e-16</td>\n",
       "      <td>3.094303e-16</td>\n",
       "      <td>-8.189283e-18</td>\n",
       "      <td>1.173064e-16</td>\n",
       "      <td>0.0</td>\n",
       "      <td>1.053610e-15</td>\n",
       "      <td>-1.543210e-17</td>\n",
       "      <td>1.168093e-17</td>\n",
       "      <td>1.069035e-16</td>\n",
       "      <td>-7.823464e-17</td>\n",
       "      <td>3.483828e-16</td>\n",
       "      <td>1.176920e-16</td>\n",
       "    </tr>\n",
       "    <tr>\n",
       "      <th>std</th>\n",
       "      <td>1.000006e+00</td>\n",
       "      <td>1.000006e+00</td>\n",
       "      <td>1.000006e+00</td>\n",
       "      <td>1.000006e+00</td>\n",
       "      <td>1.000006e+00</td>\n",
       "      <td>1.000006e+00</td>\n",
       "      <td>1.000006e+00</td>\n",
       "      <td>1.000006e+00</td>\n",
       "      <td>1.000006e+00</td>\n",
       "      <td>0.0</td>\n",
       "      <td>1.000006e+00</td>\n",
       "      <td>1.000006e+00</td>\n",
       "      <td>1.000006e+00</td>\n",
       "      <td>1.000006e+00</td>\n",
       "      <td>1.000006e+00</td>\n",
       "      <td>1.000006e+00</td>\n",
       "      <td>1.000006e+00</td>\n",
       "    </tr>\n",
       "    <tr>\n",
       "      <th>min</th>\n",
       "      <td>-2.225570e+00</td>\n",
       "      <td>-1.843046e+00</td>\n",
       "      <td>-2.182568e+00</td>\n",
       "      <td>-2.822717e+02</td>\n",
       "      <td>-2.823748e+02</td>\n",
       "      <td>-5.301893e+00</td>\n",
       "      <td>-5.473293e+00</td>\n",
       "      <td>-2.824910e+02</td>\n",
       "      <td>-2.225591e+00</td>\n",
       "      <td>0.0</td>\n",
       "      <td>-1.577014e+00</td>\n",
       "      <td>-1.170981e+00</td>\n",
       "      <td>-1.646374e+00</td>\n",
       "      <td>-7.978911e-01</td>\n",
       "      <td>-1.646354e+00</td>\n",
       "      <td>-2.196600e+00</td>\n",
       "      <td>-1.645009e+00</td>\n",
       "    </tr>\n",
       "    <tr>\n",
       "      <th>25%</th>\n",
       "      <td>-6.571106e-01</td>\n",
       "      <td>-5.194883e-01</td>\n",
       "      <td>-9.668073e-01</td>\n",
       "      <td>-4.542523e-02</td>\n",
       "      <td>-4.352486e-02</td>\n",
       "      <td>-8.133885e-01</td>\n",
       "      <td>-7.693246e-01</td>\n",
       "      <td>-3.336429e-02</td>\n",
       "      <td>-6.572017e-01</td>\n",
       "      <td>0.0</td>\n",
       "      <td>-9.480667e-01</td>\n",
       "      <td>-6.959198e-01</td>\n",
       "      <td>-8.827719e-01</td>\n",
       "      <td>-7.129119e-01</td>\n",
       "      <td>-8.827457e-01</td>\n",
       "      <td>-7.465064e-01</td>\n",
       "      <td>-8.378715e-01</td>\n",
       "    </tr>\n",
       "    <tr>\n",
       "      <th>50%</th>\n",
       "      <td>-1.450224e-01</td>\n",
       "      <td>3.624997e-02</td>\n",
       "      <td>-2.471107e-02</td>\n",
       "      <td>6.384004e-03</td>\n",
       "      <td>1.659222e-02</td>\n",
       "      <td>2.568810e-01</td>\n",
       "      <td>1.788216e-01</td>\n",
       "      <td>1.008464e-02</td>\n",
       "      <td>-1.451160e-01</td>\n",
       "      <td>0.0</td>\n",
       "      <td>3.098271e-01</td>\n",
       "      <td>-2.676955e-01</td>\n",
       "      <td>-5.074690e-02</td>\n",
       "      <td>-2.108057e-01</td>\n",
       "      <td>-5.073380e-02</td>\n",
       "      <td>1.564861e-01</td>\n",
       "      <td>-6.375369e-02</td>\n",
       "    </tr>\n",
       "    <tr>\n",
       "      <th>75%</th>\n",
       "      <td>4.338823e-01</td>\n",
       "      <td>5.833773e-01</td>\n",
       "      <td>8.031926e-01</td>\n",
       "      <td>4.878944e-02</td>\n",
       "      <td>4.561885e-02</td>\n",
       "      <td>7.544361e-01</td>\n",
       "      <td>7.462723e-01</td>\n",
       "      <td>3.598737e-02</td>\n",
       "      <td>4.337855e-01</td>\n",
       "      <td>0.0</td>\n",
       "      <td>9.387741e-01</td>\n",
       "      <td>3.612590e-01</td>\n",
       "      <td>7.670874e-01</td>\n",
       "      <td>1.740020e-01</td>\n",
       "      <td>7.670557e-01</td>\n",
       "      <td>6.571662e-01</td>\n",
       "      <td>7.177017e-01</td>\n",
       "    </tr>\n",
       "    <tr>\n",
       "      <th>max</th>\n",
       "      <td>1.881972e+00</td>\n",
       "      <td>1.893246e+00</td>\n",
       "      <td>2.993686e+00</td>\n",
       "      <td>2.451205e-01</td>\n",
       "      <td>3.126876e-01</td>\n",
       "      <td>5.357537e+00</td>\n",
       "      <td>7.433879e+00</td>\n",
       "      <td>2.861655e-01</td>\n",
       "      <td>1.881805e+00</td>\n",
       "      <td>0.0</td>\n",
       "      <td>1.567721e+00</td>\n",
       "      <td>5.372822e+00</td>\n",
       "      <td>2.512382e+00</td>\n",
       "      <td>8.802680e+00</td>\n",
       "      <td>2.512350e+00</td>\n",
       "      <td>1.850841e+00</td>\n",
       "      <td>2.020127e+00</td>\n",
       "    </tr>\n",
       "  </tbody>\n",
       "</table>\n",
       "</div>"
      ],
      "text/plain": [
       "             obj_ID         alpha         delta             u             g  \\\n",
       "count  8.000000e+04  8.000000e+04  8.000000e+04  8.000000e+04  8.000000e+04   \n",
       "mean   3.207672e-12 -3.678093e-16  1.520485e-16  1.734671e-17  2.797337e-17   \n",
       "std    1.000006e+00  1.000006e+00  1.000006e+00  1.000006e+00  1.000006e+00   \n",
       "min   -2.225570e+00 -1.843046e+00 -2.182568e+00 -2.822717e+02 -2.823748e+02   \n",
       "25%   -6.571106e-01 -5.194883e-01 -9.668073e-01 -4.542523e-02 -4.352486e-02   \n",
       "50%   -1.450224e-01  3.624997e-02 -2.471107e-02  6.384004e-03  1.659222e-02   \n",
       "75%    4.338823e-01  5.833773e-01  8.031926e-01  4.878944e-02  4.561885e-02   \n",
       "max    1.881972e+00  1.893246e+00  2.993686e+00  2.451205e-01  3.126876e-01   \n",
       "\n",
       "                  r             i             z        run_ID rerun_ID  \\\n",
       "count  8.000000e+04  8.000000e+04  8.000000e+04  8.000000e+04  80000.0   \n",
       "mean  -7.402981e-16  3.094303e-16 -8.189283e-18  1.173064e-16      0.0   \n",
       "std    1.000006e+00  1.000006e+00  1.000006e+00  1.000006e+00      0.0   \n",
       "min   -5.301893e+00 -5.473293e+00 -2.824910e+02 -2.225591e+00      0.0   \n",
       "25%   -8.133885e-01 -7.693246e-01 -3.336429e-02 -6.572017e-01      0.0   \n",
       "50%    2.568810e-01  1.788216e-01  1.008464e-02 -1.451160e-01      0.0   \n",
       "75%    7.544361e-01  7.462723e-01  3.598737e-02  4.337855e-01      0.0   \n",
       "max    5.357537e+00  7.433879e+00  2.861655e-01  1.881805e+00      0.0   \n",
       "\n",
       "            cam_col      field_ID   spec_obj_ID      redshift         plate  \\\n",
       "count  8.000000e+04  8.000000e+04  8.000000e+04  8.000000e+04  8.000000e+04   \n",
       "mean   1.053610e-15 -1.543210e-17  1.168093e-17  1.069035e-16 -7.823464e-17   \n",
       "std    1.000006e+00  1.000006e+00  1.000006e+00  1.000006e+00  1.000006e+00   \n",
       "min   -1.577014e+00 -1.170981e+00 -1.646374e+00 -7.978911e-01 -1.646354e+00   \n",
       "25%   -9.480667e-01 -6.959198e-01 -8.827719e-01 -7.129119e-01 -8.827457e-01   \n",
       "50%    3.098271e-01 -2.676955e-01 -5.074690e-02 -2.108057e-01 -5.073380e-02   \n",
       "75%    9.387741e-01  3.612590e-01  7.670874e-01  1.740020e-01  7.670557e-01   \n",
       "max    1.567721e+00  5.372822e+00  2.512382e+00  8.802680e+00  2.512350e+00   \n",
       "\n",
       "                MJD      fiber_ID  \n",
       "count  8.000000e+04  8.000000e+04  \n",
       "mean   3.483828e-16  1.176920e-16  \n",
       "std    1.000006e+00  1.000006e+00  \n",
       "min   -2.196600e+00 -1.645009e+00  \n",
       "25%   -7.465064e-01 -8.378715e-01  \n",
       "50%    1.564861e-01 -6.375369e-02  \n",
       "75%    6.571662e-01  7.177017e-01  \n",
       "max    1.850841e+00  2.020127e+00  "
      ]
     },
     "execution_count": 22,
     "metadata": {},
     "output_type": "execute_result"
    }
   ],
   "source": [
    "X_train.describe()"
   ]
  },
  {
   "cell_type": "markdown",
   "metadata": {
    "id": "AMqaDfzKmiaJ"
   },
   "source": [
    "# **SVM Modeling**\n",
    "\n",
    "### Default of C = 1.0, kernal = rbf, gamma = auto"
   ]
  },
  {
   "cell_type": "code",
   "execution_count": 23,
   "metadata": {},
   "outputs": [],
   "source": [
    "from sklearn.svm import SVC\n",
    "from sklearn.metrics import accuracy_score\n",
    "from sklearn.svm import LinearSVC"
   ]
  },
  {
   "cell_type": "code",
   "execution_count": null,
   "metadata": {
    "colab": {
     "base_uri": "https://localhost:8080/"
    },
    "id": "Mi5lfsxJmJry",
    "outputId": "a06a9bfe-293e-436a-c33f-550f4225161c"
   },
   "outputs": [],
   "source": [
    "svc = SVC()\n",
    "svc.fit(X_train, y_train)\n",
    "y_pred = svc.predict(X_test)\n",
    "acc = accuracy_score(y_test, y_pred)\n",
    "acc"
   ]
  },
  {
   "cell_type": "markdown",
   "metadata": {},
   "source": [
    "The model with rbf kernal and c of 1.0 has an accuracy of about 79%"
   ]
  },
  {
   "cell_type": "markdown",
   "metadata": {},
   "source": [
    "### rbf kernal and C = 10.0"
   ]
  },
  {
   "cell_type": "code",
   "execution_count": null,
   "metadata": {},
   "outputs": [],
   "source": [
    "svc = SVC(C = 10.0)\n",
    "svc.fit(X_train, y_train)\n",
    "y_pred = svc.predict(X_test)\n",
    "acc = accuracy_score(y_test, y_pred)\n",
    "acc"
   ]
  },
  {
   "cell_type": "markdown",
   "metadata": {},
   "source": [
    "The model with rbf kernal and c of 1.0 has an accuracy of about 85.73%"
   ]
  },
  {
   "cell_type": "markdown",
   "metadata": {
    "id": "vKQ33F9CocQl"
   },
   "source": [
    "### rbf kernal and C = 100.0"
   ]
  },
  {
   "cell_type": "code",
   "execution_count": null,
   "metadata": {
    "colab": {
     "base_uri": "https://localhost:8080/"
    },
    "id": "E3xPTXQQoZvh",
    "outputId": "6f321a43-b307-44df-c9dc-4334751fdef4"
   },
   "outputs": [],
   "source": [
    "svc = SVC(C=100.0)\n",
    "svc.fit(X_train, y_train)\n",
    "y_pred = svc.predict(X_test)\n",
    "acc = accuracy_score(y_test, y_pred)\n",
    "acc"
   ]
  },
  {
   "cell_type": "markdown",
   "metadata": {
    "id": "iLZIpT9gHgBb"
   },
   "source": [
    "Accuracy increased when C increase from 1 to 100 to 85.57%"
   ]
  },
  {
   "cell_type": "markdown",
   "metadata": {
    "id": "zuQe4DpspEM6"
   },
   "source": [
    "### rbf kernal and C = 1000.0"
   ]
  },
  {
   "cell_type": "code",
   "execution_count": null,
   "metadata": {
    "colab": {
     "base_uri": "https://localhost:8080/"
    },
    "id": "bAF_op8HoZ4R",
    "outputId": "4f7ec88e-bd93-437e-cb70-043c056d2f88"
   },
   "outputs": [],
   "source": [
    "svc = SVC(C=1000.0)\n",
    "svc.fit(X_train, y_train)\n",
    "y_pred = svc.predict(X_test)\n",
    "acc = accuracy_score(y_test, y_pred)\n",
    "acc"
   ]
  },
  {
   "cell_type": "markdown",
   "metadata": {
    "id": "nx7xeZgdz4A4"
   },
   "source": [
    "Increasing the C value to 1000 decreased the accuracy with the rbf kernal to 75%"
   ]
  },
  {
   "cell_type": "markdown",
   "metadata": {
    "id": "gR3VZJ9MpSe3"
   },
   "source": [
    "### linear kernal and C = 1.0"
   ]
  },
  {
   "cell_type": "code",
   "execution_count": null,
   "metadata": {
    "colab": {
     "base_uri": "https://localhost:8080/"
    },
    "id": "X3zTgH_soaBn",
    "outputId": "fbb4f58a-75ef-4f1f-b205-0551d44a4cc0"
   },
   "outputs": [],
   "source": [
    "svc_linear = SVC(C=1.0, kernel = 'linear')\n",
    "svc_linear.fit(X_train, y_train)\n",
    "y_pred = svc_linear.predict(X_test)\n",
    "acc = accuracy_score(y_test, y_pred)\n",
    "acc"
   ]
  },
  {
   "cell_type": "markdown",
   "metadata": {},
   "source": [
    "The model with linear kernal and c of 1.0 has an accuracy of 71%"
   ]
  },
  {
   "cell_type": "markdown",
   "metadata": {},
   "source": [
    "### linear kernal and C = 10.0"
   ]
  },
  {
   "cell_type": "code",
   "execution_count": null,
   "metadata": {},
   "outputs": [],
   "source": [
    "svc_linear = SVC(C=10.0, kernel = 'linear')\n",
    "svc_linear.fit(X_train, y_train)\n",
    "y_pred = svc_linear.predict(X_test)\n",
    "acc = accuracy_score(y_test, y_pred)\n",
    "acc"
   ]
  },
  {
   "cell_type": "markdown",
   "metadata": {},
   "source": [
    "The model with linear kernal and c of 10.0 has an accuracy of 70%"
   ]
  },
  {
   "cell_type": "markdown",
   "metadata": {
    "id": "1V19TcEnpmTE"
   },
   "source": [
    "### linear kernal and C = 100.0"
   ]
  },
  {
   "cell_type": "code",
   "execution_count": null,
   "metadata": {
    "id": "lV_b2583pyJm"
   },
   "outputs": [],
   "source": [
    "svc_linear = SVC(C=100.0, kernel = 'linear')\n",
    "svc_linear.fit(X_train, y_train)\n",
    "y_pred = svc_linear.predict(X_test)\n",
    "acc = accuracy_score(y_test, y_pred)\n",
    "acc"
   ]
  },
  {
   "cell_type": "markdown",
   "metadata": {},
   "source": [
    "The model with linear kernal and c of 10.0 has an accuracy of 70%"
   ]
  },
  {
   "cell_type": "markdown",
   "metadata": {
    "id": "_IGXeYkGpmjo"
   },
   "source": [
    "### linear kernal and C = 1000.0"
   ]
  },
  {
   "cell_type": "markdown",
   "metadata": {
    "id": "vBz-Y2nop0Lr"
   },
   "source": [
    "from sklearn.svm import SVC\n",
    "from sklearn.metrics import accuracy_score\n",
    "\n",
    "svc_linear = SVC(C=1000.0, kernel = 'linear')\n",
    "svc_linear.fit(X_train, y_train)\n",
    "y_pred = svc_linear.predict(X_test)\n",
    "print('Model Accuarcy: {0:0.4f}'. format(accuracy_score(y_test, y_pred)))"
   ]
  },
  {
   "cell_type": "code",
   "execution_count": null,
   "metadata": {},
   "outputs": [],
   "source": [
    "clf = LinearSVC(random_state=0, tol=1e-5, C=1000.0)\n",
    "clf.fit(X_train, y_train.ravel()) \n",
    "y_pred = clf.predict(X_test)\n",
    "acc = accuracy_score(y_test, y_pred)\n",
    "acc"
   ]
  },
  {
   "cell_type": "markdown",
   "metadata": {},
   "source": [
    "The model with linear kernal and c of 1000.0 has an accuracy of about 61%"
   ]
  },
  {
   "cell_type": "markdown",
   "metadata": {},
   "source": [
    "### Poly kernal, c = 1.0"
   ]
  },
  {
   "cell_type": "code",
   "execution_count": null,
   "metadata": {},
   "outputs": [],
   "source": [
    "svc_poly = SVC(C=1.0, kernel = 'poly')\n",
    "svc_poly.fit(X_train, y_train)\n",
    "y_pred = svc_poly.predict(X_test)\n",
    "acc = accuracy_score(y_test, y_pred)\n",
    "acc"
   ]
  },
  {
   "cell_type": "markdown",
   "metadata": {},
   "source": [
    "The model with polynominal kernal and c of 1.0 has an accuracy of about 73%"
   ]
  },
  {
   "cell_type": "markdown",
   "metadata": {},
   "source": [
    "### Poly kernal, c = 10.0"
   ]
  },
  {
   "cell_type": "code",
   "execution_count": null,
   "metadata": {},
   "outputs": [],
   "source": [
    "svc_poly = SVC(C=10.0, kernel = 'poly')\n",
    "svc_poly.fit(X_train, y_train)\n",
    "y_pred = svc_poly.predict(X_test)\n",
    "acc = accuracy_score(y_test, y_pred)\n",
    "acc"
   ]
  },
  {
   "cell_type": "markdown",
   "metadata": {},
   "source": [
    "The model with polynominal kernal and c of 10.0 has an accuracy of 74%"
   ]
  },
  {
   "cell_type": "markdown",
   "metadata": {},
   "source": [
    "### Poly kernal, c = 100.0"
   ]
  },
  {
   "cell_type": "code",
   "execution_count": null,
   "metadata": {},
   "outputs": [],
   "source": [
    "svc_poly = SVC(C=100.0, kernel = 'poly')\n",
    "svc_poly.fit(X_train, y_train)\n",
    "y_pred = svc_poly.predict(X_test)\n",
    "acc = accuracy_score(y_test, y_pred)\n",
    "acc"
   ]
  },
  {
   "cell_type": "markdown",
   "metadata": {},
   "source": [
    "The model with polynominal kernal and c of 100.0 has an accuracy of about 76%"
   ]
  },
  {
   "cell_type": "markdown",
   "metadata": {},
   "source": [
    "### Poly kernal, c = 1000.0"
   ]
  },
  {
   "cell_type": "code",
   "execution_count": null,
   "metadata": {},
   "outputs": [],
   "source": [
    "svc_poly = SVC(C=1000.0, kernel = 'poly')\n",
    "svc_poly.fit(X_train, y_train)\n",
    "y_pred = svc_poly.predict(X_test)\n",
    "acc = accuracy_score(y_test, y_pred)\n",
    "acc"
   ]
  },
  {
   "cell_type": "markdown",
   "metadata": {},
   "source": [
    "The model with polynominal kernal and c of 1000.0 has an accuracy of about 79%"
   ]
  },
  {
   "cell_type": "markdown",
   "metadata": {},
   "source": [
    "# Best model found"
   ]
  },
  {
   "cell_type": "code",
   "execution_count": 24,
   "metadata": {},
   "outputs": [
    {
     "data": {
      "text/plain": [
       "0.86015"
      ]
     },
     "execution_count": 24,
     "metadata": {},
     "output_type": "execute_result"
    }
   ],
   "source": [
    "svc = SVC(C=50.0)\n",
    "svc.fit(X_train, y_train)\n",
    "y_pred = svc.predict(X_test)\n",
    "acc_score = accuracy_score(y_test, y_pred)\n",
    "acc_score"
   ]
  },
  {
   "cell_type": "markdown",
   "metadata": {},
   "source": [
    "The model accuracy is 86%"
   ]
  },
  {
   "cell_type": "markdown",
   "metadata": {
    "id": "kQeRj3Bzpmqh"
   },
   "source": [
    "## Compare training and testing accuracy"
   ]
  },
  {
   "cell_type": "code",
   "execution_count": 25,
   "metadata": {
    "id": "mS601OfhqpsS"
   },
   "outputs": [
    {
     "data": {
      "text/plain": [
       "array([1, 0, 0, ..., 0, 1, 1], dtype=int64)"
      ]
     },
     "execution_count": 25,
     "metadata": {},
     "output_type": "execute_result"
    }
   ],
   "source": [
    "y_pred_train = svc.predict(X_train)\n",
    "\n",
    "y_pred_train"
   ]
  },
  {
   "cell_type": "code",
   "execution_count": 26,
   "metadata": {
    "id": "bBLRlj0gqyGT"
   },
   "outputs": [
    {
     "data": {
      "text/plain": [
       "0.9650625"
      ]
     },
     "execution_count": 26,
     "metadata": {},
     "output_type": "execute_result"
    }
   ],
   "source": [
    "train_acc_score = accuracy_score(y_train, y_pred_train)\n",
    "train_acc_score"
   ]
  },
  {
   "cell_type": "markdown",
   "metadata": {},
   "source": [
    "The Training-set accuracy is 96%. We can see the the best model predicts the training set well and predicts it about 10% better than the testing set."
   ]
  },
  {
   "cell_type": "markdown",
   "metadata": {},
   "source": [
    "### Overfitting and Underfitting"
   ]
  },
  {
   "cell_type": "code",
   "execution_count": 28,
   "metadata": {},
   "outputs": [
    {
     "data": {
      "text/plain": [
       "0.86015"
      ]
     },
     "execution_count": 28,
     "metadata": {},
     "output_type": "execute_result"
    }
   ],
   "source": [
    "training_score = svc.score(X_train, y_train)\n",
    "\n",
    "testing_score = svc.score(X_test, y_test)\n",
    "training_score\n",
    "testing_score"
   ]
  },
  {
   "cell_type": "markdown",
   "metadata": {},
   "source": [
    "The training set accuracy is higher for the training set (96%) compared to the testing set (86%), so there is some overfitting within the model."
   ]
  },
  {
   "cell_type": "markdown",
   "metadata": {
    "id": "t1Wqfld-rk5Y"
   },
   "source": [
    "## Compare model accuracy and null accuracy"
   ]
  },
  {
   "cell_type": "code",
   "execution_count": 29,
   "metadata": {
    "id": "DumK8fMXrfdd"
   },
   "outputs": [
    {
     "data": {
      "text/plain": [
       "1    11851\n",
       "0     8149\n",
       "Name: class, dtype: int64"
      ]
     },
     "execution_count": 29,
     "metadata": {},
     "output_type": "execute_result"
    }
   ],
   "source": [
    "y_test.value_counts()"
   ]
  },
  {
   "cell_type": "code",
   "execution_count": 30,
   "metadata": {
    "id": "_-0-LZsJrtrX"
   },
   "outputs": [
    {
     "data": {
      "text/plain": [
       "0.59255"
      ]
     },
     "execution_count": 30,
     "metadata": {},
     "output_type": "execute_result"
    }
   ],
   "source": [
    "null_accuracy = (11851/(11851+8149))\n",
    "null_accuracy"
   ]
  },
  {
   "cell_type": "markdown",
   "metadata": {},
   "source": [
    "The model accuracy is 86%, while the null accuracy is 59%. So we can conclude that our SVM classifier is doing a great job predicting if the object is a galaxy or not."
   ]
  },
  {
   "cell_type": "markdown",
   "metadata": {},
   "source": [
    "## Confusion Matrix"
   ]
  },
  {
   "cell_type": "code",
   "execution_count": 31,
   "metadata": {},
   "outputs": [],
   "source": [
    "from sklearn.metrics import confusion_matrix\n",
    "\n",
    "conf_matrix = confusion_matrix(y_test, y_pred)"
   ]
  },
  {
   "cell_type": "code",
   "execution_count": 32,
   "metadata": {},
   "outputs": [
    {
     "data": {
      "text/plain": [
       "1    11851\n",
       "0     8149\n",
       "Name: class, dtype: int64"
      ]
     },
     "execution_count": 32,
     "metadata": {},
     "output_type": "execute_result"
    }
   ],
   "source": [
    "y_test.value_counts()"
   ]
  },
  {
   "cell_type": "code",
   "execution_count": 33,
   "metadata": {},
   "outputs": [
    {
     "data": {
      "text/plain": [
       "<AxesSubplot:>"
      ]
     },
     "execution_count": 33,
     "metadata": {},
     "output_type": "execute_result"
    },
    {
     "data": {
      "image/png": "[encoded data removed]",
      "text/plain": [
       "<Figure size 432x288 with 2 Axes>"
      ]
     },
     "metadata": {
      "needs_background": "light"
     },
     "output_type": "display_data"
    }
   ],
   "source": [
    "confusion_matrix = pd.DataFrame(conf_matrix, columns=['Predicted non-Galaxy', 'Predicted Galaxy'], \n",
    "                                 index=['Actual non-Galaxy', 'Actual Galaxy'])\n",
    "\n",
    "sns.heatmap(confusion_matrix, annot= True, fmt = 'd', cmap = 'magma')"
   ]
  },
  {
   "cell_type": "code",
   "execution_count": 34,
   "metadata": {},
   "outputs": [
    {
     "data": {
      "text/plain": [
       "0.86015"
      ]
     },
     "execution_count": 34,
     "metadata": {},
     "output_type": "execute_result"
    }
   ],
   "source": [
    "TP = conf_matrix[1,1]\n",
    "TN = conf_matrix[0,0]\n",
    "FP = conf_matrix[0,1]\n",
    "FN = conf_matrix[1,0]\n",
    "\n",
    "accuracy = (TP + TN) / float(TP + TN + FP + FN)\n",
    "\n",
    "accuracy"
   ]
  },
  {
   "cell_type": "markdown",
   "metadata": {},
   "source": [
    "Model Accuracy is 86%"
   ]
  },
  {
   "cell_type": "markdown",
   "metadata": {},
   "source": [
    "### True Positve Rate"
   ]
  },
  {
   "cell_type": "code",
   "execution_count": 35,
   "metadata": {},
   "outputs": [
    {
     "data": {
      "text/plain": [
       "0.911146738671842"
      ]
     },
     "execution_count": 35,
     "metadata": {},
     "output_type": "execute_result"
    }
   ],
   "source": [
    "tp_rate = TP / (TP+FN)\n",
    "tp_rate"
   ]
  },
  {
   "cell_type": "markdown",
   "metadata": {},
   "source": [
    "True Positive Rate is 91%"
   ]
  },
  {
   "cell_type": "markdown",
   "metadata": {},
   "source": [
    "### False Positive Rate"
   ]
  },
  {
   "cell_type": "code",
   "execution_count": 36,
   "metadata": {},
   "outputs": [
    {
     "data": {
      "text/plain": [
       "0.21401398944655786"
      ]
     },
     "execution_count": 36,
     "metadata": {},
     "output_type": "execute_result"
    }
   ],
   "source": [
    "fp_rate = FP / (FP + TN)\n",
    "fp_rate"
   ]
  },
  {
   "cell_type": "markdown",
   "metadata": {},
   "source": [
    "False Positive rate is 21%"
   ]
  },
  {
   "cell_type": "markdown",
   "metadata": {},
   "source": [
    "### ROC Curve"
   ]
  },
  {
   "cell_type": "code",
   "execution_count": 37,
   "metadata": {},
   "outputs": [
    {
     "data": {
      "image/png": "[encoded data removed]",
      "text/plain": [
       "<Figure size 432x288 with 1 Axes>"
      ]
     },
     "metadata": {
      "needs_background": "light"
     },
     "output_type": "display_data"
    }
   ],
   "source": [
    "from sklearn.metrics import roc_curve\n",
    "\n",
    "fpr, tpr, thresholds = roc_curve(y_test, y_pred)\n",
    "\n",
    "plt.figure(figsize=(6,4))\n",
    "\n",
    "plt.plot(fpr, tpr, linewidth=2)\n",
    "\n",
    "plt.plot([0,1], [0,1], 'k--' )\n",
    "\n",
    "plt.title('ROC curve for Galaxy Classification')\n",
    "\n",
    "plt.xlabel('False Positive Rate')\n",
    "\n",
    "plt.ylabel('True Positive Rate')\n",
    "\n",
    "plt.show()"
   ]
  },
  {
   "cell_type": "code",
   "execution_count": 38,
   "metadata": {},
   "outputs": [
    {
     "data": {
      "text/plain": [
       "0.8485663746126421"
      ]
     },
     "execution_count": 38,
     "metadata": {},
     "output_type": "execute_result"
    }
   ],
   "source": [
    "from sklearn.metrics import roc_auc_score\n",
    "\n",
    "roc_auc = roc_auc_score(y_test, y_pred)\n",
    "roc_auc"
   ]
  },
  {
   "cell_type": "markdown",
   "metadata": {},
   "source": [
    "We have a ROC AUC of 0.84, meaning that 84% of the ROC is under the curve. This is close to 1 (1 meaning a perfect fit). So this does a good job classifing galaxies. "
   ]
  },
  {
   "cell_type": "markdown",
   "metadata": {},
   "source": [
    "## Conclusion"
   ]
  },
  {
   "cell_type": "markdown",
   "metadata": {},
   "source": [
    "- Our best model comes from the rbf kernel with C = 50.0 and the accuacy is 86%\n",
    "- Our ROC AUC from the model is .84 which is close to 1 so we can conclude that our classifier does a good job classifing galaxies"
   ]
  }
 ],
 "metadata": {
  "colab": {
   "provenance": []
  },
  "kernelspec": {
   "display_name": "Python 3 (ipykernel)",
   "language": "python",
   "name": "python3"
  },
  "language_info": {
   "codemirror_mode": {
    "name": "ipython",
    "version": 3
   },
   "file_extension": ".py",
   "mimetype": "text/x-python",
   "name": "python",
   "nbconvert_exporter": "python",
   "pygments_lexer": "ipython3",
   "version": "3.9.7"
  }
 },
 "nbformat": 4,
 "nbformat_minor": 1
}
